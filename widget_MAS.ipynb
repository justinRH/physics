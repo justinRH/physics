{
  "nbformat": 4,
  "nbformat_minor": 0,
  "metadata": {
    "colab": {
      "name": "widget_MAS.ipynb",
      "provenance": [],
      "collapsed_sections": [],
      "toc_visible": true,
      "include_colab_link": true
    },
    "kernelspec": {
      "display_name": "Python 3",
      "language": "python",
      "name": "python3"
    },
    "language_info": {
      "codemirror_mode": {
        "name": "ipython",
        "version": 3
      },
      "file_extension": ".py",
      "mimetype": "text/x-python",
      "name": "python",
      "nbconvert_exporter": "python",
      "pygments_lexer": "ipython3",
      "version": "3.7.9"
    },
    "widgets": {
      "application/vnd.jupyter.widget-state+json": {
        "e091f89e50d443a989ccf7e105a71a36": {
          "model_module": "@jupyter-widgets/controls",
          "model_name": "VBoxModel",
          "state": {
            "_dom_classes": [
              "widget-interact"
            ],
            "_model_module": "@jupyter-widgets/controls",
            "_model_module_version": "1.5.0",
            "_model_name": "VBoxModel",
            "_view_count": null,
            "_view_module": "@jupyter-widgets/controls",
            "_view_module_version": "1.5.0",
            "_view_name": "VBoxView",
            "box_style": "",
            "children": [
              "IPY_MODEL_f0bc11e61a5e473c8f7a464449ad2751",
              "IPY_MODEL_49ded3d8399a4448b525c9db915c5bfa",
              "IPY_MODEL_60cb91d34b374d32b4a14581fa152689"
            ],
            "layout": "IPY_MODEL_1f97c9c0f821459cb457b48fbb1e0492"
          }
        },
        "f0bc11e61a5e473c8f7a464449ad2751": {
          "model_module": "@jupyter-widgets/controls",
          "model_name": "FloatSliderModel",
          "state": {
            "_dom_classes": [],
            "_model_module": "@jupyter-widgets/controls",
            "_model_module_version": "1.5.0",
            "_model_name": "FloatSliderModel",
            "_view_count": null,
            "_view_module": "@jupyter-widgets/controls",
            "_view_module_version": "1.5.0",
            "_view_name": "FloatSliderView",
            "continuous_update": true,
            "description": "L",
            "description_tooltip": null,
            "disabled": false,
            "layout": "IPY_MODEL_3d2ee06f35f64c83923405e2292a010a",
            "max": 4,
            "min": 1,
            "orientation": "horizontal",
            "readout": true,
            "readout_format": ".2f",
            "step": 0.5,
            "style": "IPY_MODEL_f89cbc37dcb74181ab97992b6f0f149a",
            "value": 1
          }
        },
        "49ded3d8399a4448b525c9db915c5bfa": {
          "model_module": "@jupyter-widgets/controls",
          "model_name": "DropdownModel",
          "state": {
            "_dom_classes": [],
            "_model_module": "@jupyter-widgets/controls",
            "_model_module_version": "1.5.0",
            "_model_name": "DropdownModel",
            "_options_labels": [
              "red",
              "blue"
            ],
            "_view_count": null,
            "_view_module": "@jupyter-widgets/controls",
            "_view_module_version": "1.5.0",
            "_view_name": "DropdownView",
            "description": "color",
            "description_tooltip": null,
            "disabled": false,
            "index": 0,
            "layout": "IPY_MODEL_3746b8cd2dbb4e5097fb2b8e2b2e2dcd",
            "style": "IPY_MODEL_370afae10729442787be27c560ea1de2"
          }
        },
        "60cb91d34b374d32b4a14581fa152689": {
          "model_module": "@jupyter-widgets/output",
          "model_name": "OutputModel",
          "state": {
            "_dom_classes": [],
            "_model_module": "@jupyter-widgets/output",
            "_model_module_version": "1.0.0",
            "_model_name": "OutputModel",
            "_view_count": null,
            "_view_module": "@jupyter-widgets/output",
            "_view_module_version": "1.0.0",
            "_view_name": "OutputView",
            "layout": "IPY_MODEL_36ca42c1ec7640a480d2fd563c58aeb6",
            "msg_id": "",
            "outputs": [
              {
                "image/png": "iVBORw0KGgoAAAANSUhEUgAAAYoAAAEGCAYAAAB7DNKzAAAABHNCSVQICAgIfAhkiAAAAAlwSFlzAAALEgAACxIB0t1+/AAAADh0RVh0U29mdHdhcmUAbWF0cGxvdGxpYiB2ZXJzaW9uMy4yLjIsIGh0dHA6Ly9tYXRwbG90bGliLm9yZy+WH4yJAAAgAElEQVR4nO2deZgV1bXof4tZRlGkEUGZhRYRARHjHGeuEeOQaBITM5k43OSZ3NwkNzeJLy8x3pvE3AxGjRqnm4gaxyQ4gd0iKi0gSDd0M4hiUFQEBVpAaHq9P9YpaaDP6epzTs379331namq9tpVp/bae6219xJVxeFwOByOfHSIWgCHw+FwxBunKBwOh8NREKcoHA6Hw1EQpygcDofDURCnKBwOh8NRkE5RCxAE/fr10yFDhhR17AcffECPHj3KK1DMcXXOBq7O6aeU+i5YsOBdVT2gtd9SqSiGDBnC/Pnzizq2urqak046qbwCxRxX52zg6px+SqmviKzO95szPTkcDoejIE5ROBwOh6MgTlE4HA6HoyBOUTgcDoejIE5ROBwOh6MgkSkKERksIlUislRElojIN1vZR0TktyKyUkQWi8iEKGR1OByOLBNleGwT8G1VfUlEegELROQpVV3aYp+zgJG57Wjgxtyrw+FwOEIiMkWhqmuBtbn3m0WkHjgIaKkopgF3qa2FPldE9hWRA3PHOlqyciX87W8gAuedBwcfHLVE2WLzZnjoIVizBo47Dk44IWqJsoUqPPMMPPccDB4Mn/oUdOsWtVSpQeKQj0JEhgCzgbGquqnF938HrlPVObnPs4Dvqupes+lE5DLgMoCKioqJ06dPL0qWxsZGevbsWdSxkaDK4OnTGXbrrUhzMwDNnTuz8qqrePOcc3ydInF1LgPlrHPvpUupvOYauq1b99F3644/nvr/+A+aY9RYpfU+d2xspPJnP2P/uXM/+m5bRQW1P/0pbw8YkMo656OUe3zyyScvUNVJrf6oqpFuQE9gAXBeK7/9HTiuxedZwKS2zjlx4kQtlqqqqqKPjYT/+i9VUP3Up1Rff1111SrVqVPtu1tu8XWKxNW5DJStzosXq/burTpsmGp1termzarXXafaoYPqaaepNjWVp5wykMr7/OGHqiedpNqpk+r116tu2qQ6c6bqoEGqffro3LvvjlrCUCnlHgPzNU+bGmnUk4h0Bh4A/qyqD7ayyxvA4BafB+W+cwC88AJ8//s2zL7nHhtyDx0KDz8MZ5wBV10FtbVRS5letm2DT38aevSA6mo48UTo2RO++1246SZ46im49tqopUw311xj1/722+Hqq6FXLzjlFJg9Gzp14rAf/xh27IhaysQTZdSTALcB9ap6fZ7dHgU+n4t+mgJsVOefMHbuhK9+FQYNgltugQ4tbmXnznD33dZoXXml2W8d5ee//xvq662RGjx499+++lW46CL42c/Mf+QoP0uW2D249FL43Od2/23oULj1VnquWgX/8z+RiJcmohxRHAtcAnxcRBbltqki8nUR+XpunxnAKmAlcAtwRUSyxo+//MUelF/+Enr33vv3Aw6w3uyzz8Ijj4QvX9pZv96u/fnn2+itNX71K1PaP/xhuLJlhR//GLp3t/vQGueey/opU+w52LgxXNlSRmSKQlXnqKqo6jhVHZ/bZqjqTap6U24fVdUrVXW4qh6urTixM0lTkz0kRx5pDVU+vvQlGDYMfv5zN6ooN7/8JTQ2wk9+kn+fgQPhiivgvvtgxYrwZMsCixbBAw+YuWn//fPu9uqll8L778Mf/hCebCnEzcxOIn/7G7z6qvVUOxS4hZ06wXe+Ay++CFVV4cmXdrZsMR/EhRdCZWXhfa++2kYVv/hFOLJlheuvN3/E1VcX3K3x0EPhrLNs/23bQhIufThFkURuuMFs4p/4RNv7Xnop9OsHN94YuFiZ4Z57rJd61VVt7ztgAFxyCfz5z7BpU9v7O9pm/XobpV1yCey7b9v7f+tb8O678GBr8TIOPzhFkTSWL4dZs+DrX7cRQ1t062YP1COPQIs4f0cJ3HgjjB1rE+v88NWv2iikyLk9jj24/Xb48EO4/HJ/+3/84+bcvuWWYOVKMU5RJI177rHZ15de6v+YL33JQgT//OfAxMoM9fWwYAF85St2H/xw1FGmWG67LVjZssJdd8Exx9g19UOHDna/qqtdBFqROEWRJFStV3riieYo9cvYsTBpEvzv/wYnW1a4915TEBde6P8YEfjiF81X9MorwcmWBerrbW7QRRe177hLLrHXe+8tv0wZwCmKJLF4MTQ0tP8hAZuUt2ABvPZa2cXKDKrW0JxwQvsUNcAFF9jrX/9afrmyxP33m+L1rqdfBg+2Ucj99wcjV8pxiiJJTJ8OHTsWDonNh3fMAw+UV6YsUVtbvKI++GCYPNk1VKVy331w/PHtV9RgnaWXXzY/n6NdOEWRJB56yBxz/fq1/9hhw2zehevRFs8DD5i9uxhFDWaucqO64qmvt0mm7TH7tcQbhbjop3bjFEVSeOUVWLYMzj67+HOcey7U1Ljop2KZMQOmTLFZ78XgreY7Y0b5ZMoS3nWbNq244wcNgvHj3fUvAqcoksJjj9nr1KnFn+Oss8zO/tRT5ZEpS7zzDsyfb9ewWEaOtJHd44+XT64s8dhjcNhhe6+r1R7OOguef97mwTh84xRFUpgxwxqaESOKP8fEiWa2cg1V+3niCXstRVGLwJlnwtNP2zwAh38aG23dslIUNdjxO3fCzJnlkSsjOEWRBLZutSU4SmmkwOzrp59uiiKX5MjhkxkzoKLCTBelcNZZ8MEHMGdOeeTKClVVsH176YrimGOgT59dI3SHL5yiSAKzZ9s6NaU+JGA92nXrYOHC0s+VFXbuhCeftGtXaG0tP5x8MnTp4hqq9vLYY5b349hjSztPp05w2mnWWXILZfrGKYokUF1tf3C/S0YU4vTT7fXJJ0s/V1aorYUNG+DUU0s/V48edh9nzSr9XFli1iw46STo2rX0c512Grz5pguTbQdOUSSB6mpbBqJHj9LPVVFhK54+80zp58oK3rU68cTynO+kkyye/733ynO+tPPWW9aol/P6gz1XDl84RRF3Ghst2sb7c5eDE0+E556zvBaOtnnmGVtUrpRom5aceKKZPZ59tjznSzuzZ9truRTFyJFw4IGus9QOos6Z/ScReUdE6vL8fpKIbGyRAe9HYcsYOc8/bw16uR4SsHM1Njo/hR+am62hKuf1nzzZVvV1PVp/PPOMjaYnTCjP+USs41Vd7fwUPol6RHEHcGYb+zzbIgNegXRiKeWZZ2zZjo99rHzn9Bo916Nqm6VLLf9BORVFt242cc9df3/Mnm1ObD/L6vvlxBNh7VqXedAnkSoKVZ0NbIhShtjzzDM2/6FXr/Kdc8AAGDXKNVR+KLd/wuPEEy2dp5v4VZh334W6uvJff+enaBdlVNGBcYyIvAy8Cfybqi5pbScRuQy4DKCiooLqIv8AjY2NRR9bbjps28ZxNTWsueACVpVZplEjR9K/qoo5Tz9N45YtsalzWPi9z5X330/v/v2Z+9prsHp12crft08fxjc3s/imm9gwZUrZzluIOP23/dLv2WcZC7zUqxebipA9b51V+Vjfvmx48EEaRo0qVczYENg9VtVIN2AIUJfnt95Az9z7qcAKP+ecOHGiFktVVVXRx5ad2bNVQfWRR8p/7ttvt3MvXRqvOoeE7zoPHKj6mc+UX4DNm1U7dFD90Y/Kf+48JPI+X321arduqtu2FXV4wTqfc47qoYcWJ1dMKeUeA/M1T5satY+iIKq6SVUbc+9nAJ1FpIilUxNKTY29BtHj9M45d275z50W1qyxePsgrn/PnnD44e76t0VNjTmxyzF/Yk+mTLGFNjc463dbxFpRiMgAEcs3KSKTMXnXRytViNTUwJAh0L9/+c89apQlpncNVX48RX300cGcf8oUK8Mtp9I6O3bASy8Fe/1h13125CXq8Nh7gBeAQ0VkjYh8WUS+LiJfz+1yAVCX81H8FrgoN0TKBjU1wT0kHTrYud1Dkp+aGltu44gjgjn/lCmwcaP1ah17U1trS9dMnhzM+Y86yp4D11lqk0id2ap6cRu//x74fUjixIu1a+Gf/wxOUYCd+6c/pePWrcGVkWRqamwRwCDMHrC7+W/MmGDKSDJBj+g8898LLwRz/hQRa9NTpgn6IQFrqJqb6eV6tHvT1GQz4oO8/qNG2UqmrkfbOi++aEmihgwJrgxn/vOFUxRxpabGJhgdeWRwZeSG9L2XLg2ujKSydCls2RKsovDMf05RtE5Njf1HzU0ZDMccA5s2WS50R16coogrNTVmG99nn+DK2H9/GDXKKYrWCGNEB9ajrauDzZuDLSdpbNxojXfQ1987v/PVFcQpijiycyfMmxf8QwIwebIzPbVGTQ3stx8MHx5sOZMmmdnj5ZeDLSdpzJ9v6zAF5cj2GDXKfBUvvRRsOQnHKYo4Ul9vi/aFoSiOPJKu774Lb78dfFlJIgyzB+xa6M41VLvj9fCPOirYcjp0sIAFd/0L4hRFHFmwwF4nTQq+LK+hcivJ7mLLFvNRBN2bBRg40HKEuIZqd+bNs/zw++0XfFkTJ9q6Wzt3Bl9WQnGKIo4sWmS+iUMPDb4sLwe0UxS7WLzYzEFBBhJ4iJiydopidxYutAY8DCZMsM6BM8HmxSmKOLJwIYwbZ8uLB82++7J14EDXULVk0SJ7DUNRgDVUS5eCm89ibNhgCzCGef3BPQMFcIoibqhaQxXWQwJsHjnSPSQtWbgQ+vaFgw8Op7wJE8zsUVsbTnlxx3Psh/UMjB5tI3j3DOTFKYq48eqrFhoYoqJoHDUKVq1yOZw9Fi606x+0I9vD9Wh3xzODembRoOnUyULRPd+gYy+coogb3kMS9ogCdplcskxTk/Xsw2qkAA45xEYwTlEYCxeakz+IxTDzMWGCletmaLeKUxRxY+FC800cfnhoRTZ6isI1VDbJa9u2UBU1Iua4ddffCNn0Cpii2LwZXnkl3HITglMUcWPhQqistLzKIbFj331h0CDXUEEkIzrAGqraWti+Pdxy48bWrTaPKIrrD+4ZyINTFHHDs4+HzYQJzkYLdv27dQsnNLklEyaYksj6cip1debYD9P0B3DYYdC5swsTz4NTFHHi7bdtefEoFMX48bBihQvR9EKTO4W8Av+4cfaa9cinsEOTPbp0seinrF//PDhFESeiMnuA+USam7Pdo/VCk8PuzQKMHGl5LxYvDr/sOLFwoS29PnRo+GWPG+eufx6iznD3JxF5R0Tq8vwuIvJbEVkpIotFZELYMoaK9yf1epdh4pWZ5Qfl9dfh/fejURSdOplvKus92kWLLFQ1rNDklhx+uOVJd2HiexH1iOIO4MwCv58FjMxtlwE3hiBTdNTVmVO5b9/wyx4+3CYdZbmhqsv1V6JQ1GANVZavv6rVP6jUs23hzH95iVRRqOpsYEOBXaYBd6kxF9hXRA4MR7oIqK2FsWOjKbtjR9ej9ep+2GHRlD9uHLz5JqxfH035UbN6ta2aHNUz4IWkZ/kZyEOkObN9cBDwzxaf1+S+W7vnjiJyGTbqoKKigurq6qIKbGxsLPrYUpCdOzl+yRLWHHooq0Iu36vzoQccwP41NTwfQf3DprX7PGbWLPr078/ciCYe9m1u5ghg0d13834A5q+o/tt+2f+FFzgceGn7djaVSc521VmVY3v1Yt3jj7M8qs5CiQR2j1U10g0YAtTl+e3vwHEtPs8CJrV1zokTJ2qxVFVVFX1sSdTXq4LqnXeGXvRHdb7+epPh7bdDlyFsWr3PRxyhetZZocvyEW++adf/N78J5PSR/bf98vOfW/03bizbKdtd5xNPVD3mmLKVHzal3GNgvuZpU/OankRkUxvbZhFZXn7VtRtvAINbfB6U+y59eMPdEGdk70WWh947dthEryiv/4AB0K9fNq8/WL0PPhh6945OBs9P5Jby2I1CPopXVLV3ga0X8EHA8j0KfD4X/TQF2Kiqe5mdUkFdnWXbGj06Ohmy7MxbudImvEVlHweL9Dn88OxGntXVRXv9wZ6Bxkbzlzg+opCiON/H8X72yYuI3AO8ABwqImtE5Msi8nUR+XpulxnAKmAlcAtwRSnlxZraWoul32ef6GTo39+2LDZUXsRTlCMKr/y6uuz1aHfssHW24nD9IZvPQAHyOrNVdVXLzyLSu+X+qrphz33ai6pe3MbvClxZShmJoa4uurDMlmQ1RLO2NvoRHdh/YMsWW/Z9xIhoZQmTFSuiH9HBrvJra2HatGhliRFthseKyNdE5C1gMbAgt80PWrBMsWWLmT6i7k2BNVRLlmQvf3BdnY3oQlyMsVWy6ifyRnRRK4qePWHYMDei2AM/8yj+DRirqkNUdWhuGxa0YJmivt4mG0X9kIA1VFu3Wo82S9TWxkNRH3aY+Sqy1lDV1dlcnqhHdOCW8mgFP4riFWBL0IJkmjhEPHlk0Ua7ZYvlIYiDou7Rw2bJ17W6qk168Xx0UY/owP4HK1fChx9GLUls8DPh7vvA8yJSA3x05VT1G4FJlTXq6uwBGT48aklsdraILQ54fkmxCsnBG9HFQVGD3YOsLc5YVxfNGlutUVlpptcVK+LReYgBfkYUNwNPA3PZ5aNwiQvKSW2t/Tk7doxaEujeHYYMscYzK3gjurg0CpWVsHy5RQJlgTiN6MCuP2RPWRfAz4iis6p+K3BJskxdHZx6atRS7CJrPdo4jejArn9Tk5k/xoyJWprgWbo0XiO6UaMsAi5Lz0Ab+BlRPCYil4nIgSKyn7cFLllW2LDBFoKLS28KrHFqaMhO5FNdXXxGdJC9Hm1cIp489tnHIp+ycv194EdRXEzOT4ELjy0/noknTouQVVaaI+/VV6OWJByWLInX9fcif7LSUNXVWdKmuIzoIHuj6jZo0/SkqhGkmsoQDQ32GoewQI+WPdq0T/ravNmS1cTJxNOjh/mJstJQ1ddbjvK4jOjAnoHHHjM/UefOUUsTOYUWBWwzm1zqM86FQX292ccPOSRqSXbhNZpZaKiWLbPXOCkKyFaPtqEhntd/xw5zsjsKmp5uF5G+Lf0Se27AbWEJmloaGsx5FqfeVO/elmkvCw1VHEd0YA3VsmXp9xNt3Womzjhef8jGM+CDQqanPpg/olDy2nXlFSeD1NfDUUdFLcXeZKVHW19v+arjZB+H3f1EaTb/rVhhEU9xG1G09BOdd160ssSAQosCDglRjmyybZs1BJdcErUke1NZCX/8o61i2iHq1OoB0tBgDXHc7NBZ8RPFdUSXNT9RG6S4BUgAy5dbbypuDwlYQ7VlC7z+etSSBEt9fTyvf1b8RPX1thLAqFFRS7I3WRlV+8ApiijxelNxG3ZDNmy0O3bEd1JbVvxEDQ3Wc48yD0s+KiuzNZ+oAJEqChE5U0SWichKEfleK79fKiLrRGRRbvtKFHIGRpx7U1no0a5aZcoijiMKyEaPNq4jOsjefKIC+FIUInKOiPwyt32iHAWLSEfgBuAsoBK4WEQqW9n1XlUdn9tuLUfZsSHOvan99oOKinSv+RTnER1YQ1Vfn95sd83NFtkV5+sP6VfWPvCTuOjnwDeBpbntGyJybRnKngysVNVVqrodmA5kK6VUnHtTkP4eracEDz00WjnykXY/0erVFtAR12cgC6Nqn/hZFPBfgPGq2gwgIncCC4H/KLHsg4B/tvi8Bji6lf3OF5ETgOXA1ar6z1b2QUQuAy4DqKiooLq6uiihGhsbiz62XTQ3c3x9PW+OGsUrYZRXgHx1HtmnDxUvvsicqiozkaWIxsZG3qqupm+/frzw0ktRi9MqvbdtYwKwePp0NkyZUvL5Qvtv+2S/mhrGAQu3bWNjQHKVWucpBxzA+08/TUMZrn8YBHaPVbXghqVA3a/F5/2AxW0d5+O8FwC3tvh8CfD7PfbZH+iae/814Gk/5544caIWS1VVVdHHtotVq1RB9Y9/DKe8AuSt8w03mIxr1oQqTxhUVVWpTp6sesopUYuSn/Xr7fr/4hdlOV1o/22/XH+91W/dusCKKLnOZ5yhOmFCWWQJg1LqC8zXPG2qHx/Fz4GFInJHbjSxACiH6ekNYHCLz4Ny332Eqq5XVS9Z0q3AxDKUGw/ibh+HdNtoVeO5dERL9tsPBgywRQvTSH099OtnW1wZMybdfiKftKkoVPUeYArwIPAAcIyqTi9D2fOAkSIyVES6ABcBj7bcQUQObPHxHCA9nlXPPh5X+yyk2kbbZcMG2LQp3tcfdjVUaaShIRnXf+tWWzgyw/hxZs9S1bWq+mhue0tEZpVasKo2AVcBT2AK4D5VXSIiPxGRc3K7fUNElojIy8A3gEtLLTc2NDTEvzfVvz/07ZvKhqr76tX2JgkNlZeqNW3EPZgDdsnnWQAySl5ntoh0A7oD/USkL7vWfOqNOaJLRlVnADP2+O5HLd5/H8uFkT6S8JCIpLZH292LJIqz6QlMvk2bYO1aGDgwamnKx7vv2hb3699SUZx+erSyREihEcXXMH/EaHbPlf0I8PvgRUs5cbePe6RZUfTqBQce2PbOUeL9R9J2D+K6xtOeHHCAjaozPqLIqyhU9TdqSYv+TVWHqerQ3HaEqjpFUQpebyruDwlYQ7VuHaxfH7UkZaX7669b3eIe9pt2RRH3zpKIPadOURRGVX8nIh8Tkc+IyOe9LQzhUktSHhJIbUPVY/XqZCjqAw+0dZ9Sdv1paLCEXQcfHLUkbeMUhS9n9t3AL4HjgKNy26SA5Uo3SYh48kijoti8ma5JsI9Dev1EcUx/mo/Ro81HtHFj1JJEhp+Z2ZOAytyEDEc58HpTcUp/mo9DDrG1qNLUUCXFPu4xZgw8/njUUpSXhoZ4JuxqjZYO7aNbWzwi/fiZcFcHDAhakEzh9aaSkBCoQweT1SmK6BgzBt56C95/P2pJyoOX/jQJIzpwIbL4UxT9gKUi8oSIPOptQQuWapIS8eSRNtNHfT3NHTvGL/1pPtJm/vPSnyZFUQ8dahkQM6wo/JierglaiEyxdSu89hp84QtRS+KfMWPgnnvggw8sRWTSaWhg60EH0SNu6U/z4S2lUl8PxxwTrSzlIEk+OjAlMWJEphWFn6inZ4DXgM659/OAeC63mQS89KdJG1GA5Q5IAw0NbEmCf8hjyBDo2jU9I4qGhvgm7MpHxiOf/EQ9fRX4K3Bz7quDgIeDFCrVJM0+DukyfezYAStWsGXw4Lb3jQsdO6bLTxTnhF35GD3a0ubu2BG1JJHgx0dxJXAssAlAVVcA/YMUKtXEOf1pPkaOtMYqDQ3VqlXQ1JSsEQWky09UX5+sETWYomhqsv9PBvGjKD5Uy0AHgIh0AlyobLE0NJhzrFu3qCXxT5cu5vhNQ0OVq8OWJEz0asmYMRYptHVr1JKUhpf+NEkjash85JMfRfGMiPwHsI+InAbcD/wtWLFSTBJ7U5CeHm3uQU+kolBNvp/IS3+atGfAS5frFEVevgesA2qxhQJnAP8ZpFCpZedOc2YnrTcF9mCvWJF8G219PRx0EDu7d49akvaRFj9REn10AH362HIqGVUUbYbHquXKviW3OUohqb0pMJk9G63Xu0oiSUiW0xqjRtnkx6QriqSFxrYkw5FPeUcUInJf7rVWRBbvuYUnYopIam8K0tGjVU2u6a9rVxg2LNnXH5KRsCsfnqLI4GpGhUxP38y9ng18opWtZETkTBFZJiIrReR7rfzeVUTuzf1eIyJDylFuZCS9NwXJbqjWroXNm5N5/SEdfqKkjujA5H7/fXjnnaglCZ1C+SjW5l5Xq+pq4D1gc4utJESkI3ADcBZQCVwsIpV77PZl4D1VHQH8GvivUsuNlIYGS4Sy//5RS9J+evWCQYOS3VB5sidxRAEm9/LlZgJMKkkd0cEuuTNofvIz4e5rIvIWsJhdWe7ml6HsycBKVV2VC7+dDkzbY59pwJ25938FThGJe6aZAiT5IYHk92iTbPoDu/47diQ3lj9JCbtaI8Mhsn7Wevo3YKyqvlvmsg8C/tni8xpgzzV8P9pHVZtEZCOwP7CXLCJyGXAZQEVFBdXV1UUJ1djYWPSxbXFsbS3rTjiB5QGdv1j81nlEr14MmDOHOVVV8c8M1wojZs1iQI8ezFm2jMYPPgjsPgdFry1bmAjU3ncf6487rt3HB/nf9kOf2lqOBBbv2MGGkOQoa52bmzm+WzfenDmTV2Ia0BHYPVbVghvwONC9rf3auwEXALe2+HwJ8Ps99qkDBrX4/ArQr61zT5w4UYulqqqq6GML8s47qqD6618Hc/4S8F3nG2+0Orz+eqDyBMYpp6hOnqyqAd7nIHn/fbv+P/95UYdHXudbbjH5V60Krciy13nCBNUzzyzvOctIKfUF5mueNtXPiOL7wPMiUgN82ELBfKNEHfUG0HLBnUG571rbZ01uRngfIJnJm5Nu9oDdI5+StFaSR0MDnHpq1FIUT58+MHBgcs1/9fXJSdiVj9Gj4fnno5YidPxMuLsZeBqYyy4fxYIylD0PGCkiQ0WkC3ARsGeei0cBbz3uC4Cnc5oveSTdkQrJDpHdtAneeCPZihqS7SdqaEhOwq58jB5t86G2bIlaklDxM6LorKrfKnfBaj6Hq4AngI7An1R1iYj8BBsCPQrcBtwtIiuBDZgySSYNDbZaZhJ74h4HHAD77ZfMhspb+iINiuLOOy2WP2l+oiSlP83H6NF27VesgCOOiFqa0PCjKB7LOYr/xu6mpw2lFq6qM7AlQVp+96MW77cBF5ZaTixIUvrTfIjYg5JERZGGER2Y/Js32+ho0KCopfGPl/7085+PWpLSaBn55BTFblyce/1+i+8UGFZ+cVJMQ0M6spONGQOPJjATbkMDdOpks5uTTEvzX5IURdLSn+Zj5EjrMGUsRNZPhruhrWwJf9pCZssWs2sm/SEBa6jWrYP1CYspqK+3hzwp6U/zkVQ/UVpGdN26WZqAjCkKPyMKRGQsNnv6oyQKqnpXUEKljiSmP81Hy4aqiFj+yGhoSMf1r6iAffdNnqLw0p+OHBm1JKWTVPNrCfiZmf1j4He57WTgv4FzApYrXSR5jac9SWKPdscOS0cQ69cAACAASURBVGOZBkUhkszIp/p664knKf1pPkaPtuCI5uaoJQkNP57VC4BTgLdU9YvAEdh8BodfGhrMiZ2G3tQhh9jDnqSG6pVXbH2kNChqSKaiSPJigHsyerSlC3j99aglCQ0/imKrWk6KJhHpDbzD7hPlHG1RX29O1CSlP81Hhw4WvZWkhiot9nGPMWNsBdMNJQcehsPOnclMf5qPDK755EdRzBeRfbHERQuAl4AXApUqbdTXp+chgeT1aD1ZY7o+T7tJmvkvyQm7WsMpir1R1StU9X1VvQk4DfhCzgTl8ENTkzmz0/KQgNVl9Wr44IOoJfGHF0raq1fUkpSHpCmKtI3o+vWziadOUexCRGaJyFQAVX1NVReLyB+DFy0lvPoqbN+enocEdtXFm+0cd5K+vPueHHKImTGdoogGb+KpUxS7MRT4bi76yWNSQPKkD+/PlJaHBJLVo1VNT2isR8eOyfITNTRA//7WC08LTlHsxftY1FOFiPxNRFzEU3tIU2isx8iR1lgloaFas8ZMZGlSFJAsP1HaRnRgz/Pbb8N770UtSSj4URSiqk2qegXwADAH6B+sWCmivh4GDLBJUmmhSxcYPjwZDVXazB4enp8o7quYqqZXUUByzK8l4kdR3OS9UdU7gEuBJwOSJ32k8SGB5PRo0ziiA7v+qvFvqN55x3rdaXsGMhb55Cfq6WYAEekvIgcD64BrApYrHaS1NwVWpxUrbNZznKmvh759zUaeJior7TXuyjqtinroUFs3zCkKQ0Q+ISIrgFeBZ3KvMwof5QDgrbcsYU5aFUVTE6xaFbUkhfEUddJyN7RFUvxEaTX9deoEo0bB0qVRSxIKfkxPPwWmAMtVdShwKlATqFRpIa0PCSQn8imtI7qk+Inq66Fnz2Qtie6XpJhfy4AfRbFDVdcDHUSkg6pWUWJ4rIjsJyJPiciK3GvfPPvtFJFFuS15SRDSOuyGXXWK84Oyfr0tiZ5GRQHJaKi8VQnSNqIDM/+tWmWzzlOOr/BYEekJzAb+LCK/AUqdkvs9YJaqjgRm5T63xlZVHZ/bkrdibX29zQYeODBqScpPr17WS4xzQ5XGOSwt8fxETU1RS5KftI7owBRFc7OtvJBy/CiKacBW4GrgceAV4BMlljsNuDP3/k7g3BLPF0/Sah/3iHuPNs0jOrDrv2OHrY4bR7yUrWlWFJAJP0WbiYtUteXo4c68O7aPClVdm3v/FlCRZ79uIjIfaAKuU9WH850wl9f7MoCKigqqq6uLEqyxsbHoY/fkmMWLeW/iRBrKdL6gKLbOI3r1YsCcOcypqoqlMhz+5JMM7NKFZ199da8loct5n6Oi15YtTATq7r+fd30kkQq7zr0aGky+nTt5N6JrHWSdZft2TujQgdUzZvDagAGBlNFeAquvqra6AZuBTS22zS1f8x3X4viZQF0r2zTg/T32fS/POQ7KvQ4DXgOGt1WuqjJx4kQtlqqqqqKP3Y3331cF1Z//vDznC5Ci63zjjVbH118vqzxl46yzVI84otWfynafo2TTJrv+117ra/fQ63znnSZfQ0O45bYg8DqPGqV6/vnBltEOSqkvMF/ztKl5RxSqWtJSm6p6ar7fRORtETlQVdeKyIFYjovWzvFG7nWViFQDR2Kmr/iTdvs47B75NDiGKUrq62HKlKilCI64+4nq6y2MdNiwqCUJjjFjMmF68uOjQEQmiMg3RORfReTIMpT7KPCF3PsvAI+0UmZfEemae98POBZIzh1Jc2isR5xDZLdssSUu0nz9Id5+ovp6m+/RuXPUkgRHZaUFFGzfHrUkgeJnwt2PMN/E/kA/4A4R+c8Sy70OOC03ke/U3GdEZJKI3JrbZwyWNOlloArzUSRLUXTpku7e1AEH2IqgcWyoli+3mfFpdWR7jBljo1cz0caLNEc8eVRWWtTZypVRSxIobTqzgc8CR6jqNgARuQ5YhE3EKwq1eRmntPL9fOAruffPA4cXW0bkNDRYb6qTn0ucUETi26PNwogOrH6NjbZKbpzMf9u3WzTWhRdGLUmwtFxKxXufQvyYnt4EWiZ77gq8EYw4KSJt6U/zEWdF0aGDLbOQZjxFGDc7+YoVlis77Yram0wYt+tfZvwoio3AEhG5Q0RuxyKX3heR34rIb4MVL6F8+KHN2Ez7QwJWx3XrbBZ0nKivN7Nf165RSxIscfUTZWVE1707DBmSekXhxy7yUG7zqA5GlBSxbJn1plI8FP2Ilg2Vj1j+0MiCfRzi6yfyov4OPTRaOcKgstIpClX9aJJdbk2mwaq6OFCpks6SJfY6dmy0coRByzWf4qIotm83ZX1O8lZ9aTdx9RMtWWJLcffoEbUkwTNmDMycaU7tlPok/UQ9VYtIbxHZD3gJuEVErg9etARTV2d/mCz0pg45BPbZJ14N1fLl9tBmQVFDPBVFXV12rn9lpZmbX301akkCw4+Poo+qbgLOA+5S1aOxkFZHPurqzInapUvUkgRPhw6mEOPUUNXV2WtWGqoxY+Ddd22LA9u3m+npsMOiliQcMrDmkx9F0Sk3e/pTwN8DlicdLFmSnYcE4tejXbLEkvpkYUQH8XNoeyvaZklRQ+YVxU+AJ4BXVHWeiAwDVgQrVoL54AOLeMrKQwL2oKxebXWPA3V1Nocl7RFPHnFTFFkb0fXuHe+lVMqAn5zZ96vqOFW9PPd5laqeH7xoCaW+3mbJZuUhgV0N1bJl0crhkSX7OMDBB1uYZlwaqrq6bI3oIPWRT36c2aNEZJaI1OU+jyvDEh7pxYt4yprpCeLRUG3ZYjOCs6Qo4uYn8kZ03bq1vW9a8Myvzc1RSxIIfkxPtwDfB3YA5EJjLwpSqERTV2cmj+HDo5YkPEaOtB5kHBqqLI7oIF5+oqyN6MDqu2VLaiOf/CiK7qr64h7fxTj3YsTU1dlDm9J46lbp0sUUYxwaqqzZxz3GjLHkTI2N0cqxdWv2RnQA48bZ6+J0TjHzoyjeFZHhgAKIyAXA2sKHZJglS7L3kEB8erRLlmRvRAfx8RNldUR32GE2+bG2NmpJAsGPorgSuBkYLSJvAP8HuDxQqZLKxo3wz39myz/hMWaMhUXu2BGtHHV1Nls8SyM6iI+fyBvRZe0Z6NHD1hZLqaLws4THKuBUEekBdFDVzcGLlVCytHTHnowZY7Hzq1ZFG+1SVwcnnBBd+VExYkQ8/ER1dWaKHDEiWjmiYNy41Jqe8ioKEflWnu8BUNWil/EQkQuBa7DkRJNzeSha2+9M4DdAR+BWVb2u2DJDIeuKAixEMCpF4Y3osnj9vcY5Dooiaz46j8MPh0ceMT/NPvtELU1ZKWR66pXbJmGmpoNy29eBCSWWW4ctCTI73w4i0hG4ATgLqAQuFpF4L8daV2dD0IMPjlqS8KmsjN5Gm2VFDfHwE2Ux4slj3DgLj03hfIq8ikJV/6+q/l9gEDBBVb+tqt8GJgIltYSqWq+qbXndJgMrcxP8tgPTgWmllBs4dXVmm+3gKxV5uujRw3q0L78cnQxZjXjyOOww8xNt2xZN+Vke0YGNKCCV5ic/48MKoGXm8O2574LmIOCfLT6vAY7Ot7OIXAZcBlBRUUF1dXVRhTY2NhZ3rCofW7CA9ccey7Iiy46Kouu8B5UDB9Jr7lxqIqr/iMcfZ8A++zBn1Sp47bWC+5arznHigM6dOWznTubfdReNrWT2C7rOvevqmADUNjezPibXNtT7vHMnx3ftypszZvDK0KHhlLkHgdVXVQtuwA+AlzGfwjVYvuzv+zhuJmZi2nOb1mKfamBSnuMvwPwS3udLgN+3Va6qMnHiRC2Wqqqq4g5cs0YVVH/3u6LLjoqi67wnP/2pXYONG8tzvvZy/PGqxx7ra9ey1TlOLF9u1/+221r9OfA6/+EPVv7q1cGW0w5Cv8+TJqmeckq4ZbaglPoC8zVPm+on6ulnIvIYcHzuqy+q6kIfx5W6FPkbQMts8YOIc67uRYvsdfz4aOWIkiOOsNfaWjj22HDLbm62e3DJJeGWGyeGDzcToPdfDJtFi6BvXxg8uO1908q4cfD39C2y7cuYrqovqepvclubSqJMzANGishQEemCLRvyaEhltx/PNu/N0MwinqKIwk/x2muweXO2FXWHDnYPolQU48dbUENWOfxweOcdePvt8Muur6fnsmU24bHMROJ1FZFPisga4BjgHyLyRO77gSIyA0BVm4CrsCXO64H7VHVJFPL6YtEim3DTu3fUkkTHoEGWvzmKhsqN6Izx4+1ahL04XVOTOXGzfv09h3YU0X+/+hVH/Pu/B3LqSBSFqj6kqoNUtauqVqjqGbnv31TVqS32m6Gqo1R1uKr+LApZfeP1prKMiPVooxhRLFpkPeqsRtx4jB9vI6s2nPllx4u2yvozEOWaTwsXsnnkyEBGdBmM4wyAzZth5Ur3kIApitpa2Lkz3HIXLbKlO1I20andRGX+W5izSB95ZLjlxo0DDoCDDtp1PcJixw6oq6MxoBnxTlGUg9pasws6RWEN1dat1sMMEzeiM8aOtZFV2Oa/RYtsdvjo0eGWG0cmTICXXgq3zPp62L6dxpEjAzm9UxTlwOu9uYZq1zUIs0e7YYNN9PJ601mme3dbQiUKRTF2LHTuHG65cWTiRGhoCDc1cG4E4xRFnPHCAgcNilqS6PHW+QlTUThFvTueQzssVN2IriUTJlgwQZjPwMKF0L07Ww46KJDTO0VRDlxY4C66djVlEWZD5ZXlRhTG+PGWxGjDhnDKW7sW1q1zisJjQm4pvDDNTwsX2v+/Y8dATu8URak0NZmPwj0kuzjySHtIAojnbpWFC2HAAKgIY2WZBBC2+c+FJu/OwIHQv394isKbbBpgIIFTFKWyZIk5bydNilqS+HDUUTbhaM2acMqbP9/swg7Da7DDaqgWLNgVGu2waxGmQ3vVKti0ySmKWDNvnr0edVS0csQJ71p41yZINm82x6G7/rvo39+Wug/j+oOVc+ih2Z5suicTJlgnMoyVfL37HGBn1SmKUpk/H/r0yV6O5kIccYQ5tMNoqDwTl1MUuzN5Mrz4YvDlqNp9dtd/dyZMMLO0t/R9kMybZ/OHAkw/6xRFqcybZ5o8izko8tGtm81QDUNRuBFd60yeDK++ak7mIHnjDXjrLXf99yRMh/a8eWZ2CjA02bVupbBtm03Vdw/J3hx1lI22gl5zaN48OOQQmxHr2MXkyfY6v9Usw+XDKerWGTLEQuaD7iw1NZmPKODr7xRFKSxebDfKPSR7c9RRlvFs5cpgy3Fmj9aZMMGcqkGbn1580cyMLuJpd0Tg6KOhpibYcpYutWAapyhiTAhOpMQShkP73XfNvOIUxd706mV5zIPu0c6bZ2bGbt2CLSeJTJliPorNm4Mrw7u/3ggyIJyiKIV58yzCJMuJWvJRWWkOtiAbKs+s4hRF63gO7aDmszQ32z1w1791pkzZ5ewPihdfhH33tXz1AeIURSnU1NhD4mZk702nTmb+CPIhmTfPrr2bQ9E6Rx1lzuzXXw/m/CtXmnnRKYrW8Xr5c+cGV4YXTBNwG+QURbGsX2/x+2Gn/EwSkydb1Mf27cGc/7nnbCE6F7/fOl5DFZSf4oUX7PXoo4M5f9Lp29dW0w1KUXzwga0KEbDZCaLLcHehiCwRkWYRyWvgF5HXRKRWRBaJSMDhG+3k+eft1SmK/Bx7rEWGBREiuHOn3QN3/fNz+OHmOwiqoZozxxrDyspgzp8Gpkyx6x+E+a+mxoJpjjuu/Ofeg6hGFHXAecBsH/uerKrjVTVeHuPnnrO4ZTfszo/3B54zp/zn9pyEITwkiaVLF+ttPvtsMOefM8cUtZtDlJ8pU8z89+qr5T/3nDlmcvrYx8p/7j2IKhVqvaoui6LssvHcc2Ybz3pGtUJUVMDIkcEoCu+cbkRRmOOPtxFdY2N5z/vuu8706ocpU+zVM9OVkzlzLOKsT5/yn3sPOgVeQmko8KSIKHCzqv4x344ichlwGUBFRQXV1dVFFdjY2NjmsbJ9O8fX1PDGJz/JK0WWEyf81LlYDh0+nH5VVTz39NNl7XmOefBB9u3XjxdefbWo/NBB1jlO9O3ThyN27uTlm26icfTostV5/+ee43BgYY8ebIzxdYz8Pu/cyXE9evDO9OksL2OuCNm5k2PnzOHtM85gRYv6BVZfVQ1kA2ZiJqY9t2kt9qkGJhU4x0G51/7Ay8AJfsqeOHGiFktVVVXbOz33nCqoPvhg0eXECV91LpbbbrNrtXRpec87eLDqpz5V9OGB1jlObNqk2qGD6g9/WN46f+c7ql26qG7dWr5zBkAs7vPZZ6uOGlXec86fb8/VPffs9nUp9QXma542NTDTk6qeqqpjW9keacc53si9vgM8BATv3vfDc8/Zawi2wcRz/PH2Wk7z0+uvW+pT559om169bB2g2X7cge1gzhzzz7mJdm1z0kmwfDm8+Wb5zuk9TyE9A7H1QolIDxHp5b0HTsdGJNHzzDMwapRLlOOHESNsUmI5HareuZx93B8nnAA1NUi5wpS3brWJdu76++Okk+z1mWfKd845c2w9qZDSL0cVHvtJEVkDHAP8Q0SeyH0/UERm5HarAOaIyMvAi8A/VPXxKOTdjR07oLoaTjklakmSgYg1VFVV5QsRnDkT9tvPJcrxy/HHw7Zt9FpWpviRZ5+15+Dkk8tzvrQzfrzN9SmX76C52Z6nE04oz/l8EIkzW1UfwkxJe37/JjA1934VEL+WoKbGJrqcemrUkiSH006Dv/4Vli2zCUiloGqK4uMfDyw/cOo44QQQoW+55rM89ZSF3obYUCWajh3tWpVLUSxcaBN+TzutPOfzQWxNT7Fl5kzrJbvelH+8P/STT5Z+rmXLLMVqiA9J4tl/f5g4kf3KtZzKU0+Z2al79/KcLwuU00/x1FP2GmJn1SmK9jJzpq2t0rdv1JIkh6FDLQOg9wcvhZkz7dWN6NrHGWfQu74e3n+/tPO8/Ta8/LK7/u3l4x+313J0lp56ymbdDxhQ+rl84hRFe9i82UxPzj/Rfk47zYbepTpUZ840xTNsWFnEygxnnIE0N8PTT5d2nlmz7NWN6NrH+PFw4IEwY0bb+xZiyxZzZId8/Z2iaA9PPGFrq5x5ZtSSJI/TT7fZwaXMUN22zRqq008vn1xZYcoUmrp3t/9wKTz+uI2mvVSfDn+IwNSpdv137Cj+PLNnW2fLKYoY88gjFm3jwgLbzymnmAP0Ed/TaPbm6adN2UybVj65skLnzrw3YQI89ljx0WdNTfD3v8PZZ7tAgmL4l3+BTZt2zcMqhocfhh49doXchoRTFH7ZsQP+8Q97SDrFfeWTGNK7t9m1H3qo+IbqkUegZ89d9l5Hu3j32GNtomKxebRnz4b33oNPfrK8gmWFU0+1hUSLNT81N9szcNZZoU90dIrCL3Pm2EPierPF88lP2rpML7/c/mO9h2TqVOjateyiZYH1xx5rnZy//rW4Ezz8sDVQzvRXHL16WbRksZ2luXPhrbciUdROUfjl4YetgXIPSfGcc44tDPjgg+0/tqbGIm7OPbf8cmWEpl69zAT4wAPtb6hU7Rk44wwzfTiK49OftsyAxYzqHnrIRiT/8i/ll6sNnKLwQ1MT3Huv9WZ79oxamuTSv7+tTXP//e1vqO65xxT11KnByJYVzj8fXnml/aO6uXPNbOXMTqVx3nnmq7vnnvYd19xsI8GPfzyUZcX3xCkKPzz1lPVmP//5qCVJPp/7nOUxaE96zu3b4S9/MbNfBA9Jqjj3XDM//e//tu+4O+6wCXbnnReIWJlh333NxzB9umVp9Mvs2Wa2veSSwEQrhFMUfrjrLot2cr3Z0vn0py3Z0+23+z9mxgxbsuALXwhOrqxwwAFmArzzTvjwQ3/HbN1qDdsFF5id3VEaF18Ma9e2b07L7bdbQEhEIzqnKNrirbfMpv7Zz9qQ0VEavXub+eOee/xnXbv5ZpuF6vxD5eGrX7UMdY8+6m//+++3sE6nqMvDtGnQrx/8/vf+9n/vPTM7ffrTkS2b4hRFW9x4o4XG/uu/Ri1JerjiCmt4brut7X2XLLFJXlde6cKSy8Vpp8Ehh8D//E/bviJV+NWvYOxYt75ZuejWDS67DP72N3+5tG+6yWZkX3FF8LLlwSmKQmzZAn/4A3ziE5b72VEejjnGnNrXX9/2LNXrrzdT1eWXhyNbFujYEb7zHXj++bZzJDz1FCxeDN/+ts0udpSHyy+3+/DLXxbeb9s2+M1vbDQ9fnw4srWCUxSF+PWvbYj+3e9GLUn6+N73LFPdH/OmQTen9513wle+YiugOsrHl75kibeuuSb/qKK5GX74QzjoILOrO8rHoEH2v/7jHy0KLR9/+IMF0kTcBjlFkY/Vq+G66yxKxKU8LT9Tp1qo33/+J6xbt/fvqvDNb5pN9oc/DF++tLPPPvCjH9mI4t57W9/nrrssOu3aa90kxyD40Y/M7/ntb7eurNeuhZ/8xKKkIl6NIKoMd78QkQYRWSwiD4nIvnn2O1NElonIShH5XmgCfvjhrlDYX/86tGIzhYg58xob4YtftN5rS37zG1uS+dprLVLHUX6+9jVbMv/KK/e2la9YAd/4hmXH+9znopEv7Rx4IPz4x7biwC237P5bU5O1Qdu3x6INimpE8RQwVlXHAcuB7++5g4h0BG4AzgIqgYtFpDJowTpt2gQXXmhxyzffbHlpHcEwZow5VP/xD4sP37jRFMZvfwvf+paFcV55ZdRSppeOHS36rLnZ1iHyJuEtWLBrEce777bZ9I5g+Pa3LbjgiivMDKVqUU4XXWRL6v/ud3DooVFLGVkq1JbZO+YCF7Sy22RgZS4lKiIyHZgGLA1EqJ074eijOaauzt7fcAN85jOBFOVowRVXmIL4wQ9siYiePeGdd8w0NX26c6AGzYgRtvT12Webs/Tgg813dOCB1lAdckjUEqabjh0t/P7cc22E94MfWBDNtm0WbfblL0ctIQCi5Up4X6wAIn8D7lXV/93j+wuAM1X1K7nPlwBHq+pVec5zGXAZQEVFxcTp06e3W5bR117Lln32Yf055/DB8OHtPj6pNDY20jPipUl6Ll/OgMcfp+PWrWyYPJl1J50UqJKIQ53DplCdO23axMBHH6XH6tV8cMghvHnuuTSl4Pok5j43N9O/upq+8+axc599eGvqVBpHjGj3aUqp78knn7xAVSe1+qOqBrIBM4G6VrZpLfb5AfAQOYW1x/EXALe2+HwJ8Hs/ZU+cOFGLpaqqquhjk4qrczZwdU4/pdQXmK952tTATE+qWjCprohcCpwNnJITck/eAAa3+Dwo953D4XA4QiSqqKczgX8HzlHVLXl2mweMFJGhItIFuAjwueaAw+FwOMpFVOEMvwd6AU+JyCIRuQlARAaKyAwAVW0CrgKeAOqB+1R1SUTyOhwOR2aJKuqpVS+Nqr4JTG3xeQZQZN5Ah8PhcJQDFyDtcDgcjoI4ReFwOByOgjhF4XA4HI6COEXhcDgcjoJEPjM7CERkHbC6yMP7Ae+WUZwk4OqcDVyd008p9T1EVVtdgTOViqIURGS+5pvGnlJcnbOBq3P6Caq+zvTkcDgcjoI4ReFwOByOgjhFsTcFcnOmFlfnbODqnH4Cqa/zUTgcDoejIG5E4XA4HI6COEXhcDgcjoJkVlGIyJkiskxEVorI91r5vauI3Jv7vUZEhoQvZfnwUd9vichSEVksIrNEJPE5MNuqc4v9zhcRFZHEh1H6qbOIfCp3r5eIyF/ClrHc+PhvHywiVSKyMPf/ntraeZKEiPxJRN4Rkbo8v4uI/DZ3TRaLyISSCsyX0SjNG9AReAUYBnQBXgYq99jnCuCm3PuLsHStkcseYH1PBrrn3l+e5Pr6rXNuv17AbCx3+6So5Q7hPo8EFgJ9c5/7Ry13CHX+I3B57n0l8FrUcpeh3icAE4C6PL9PBR4DBJgC1JRSXlZHFJOBlaq6SlW3A9OBaXvsMw24M/f+r8ApIgEmcQ6WNuurqlW6K4nUXCyjYJLxc48B/h/wX8C2MIULCD91/ipwg6q+B6Cq74QsY7nxU2cFeufe9wHeDFG+QFDV2cCGArtMA+5SYy6wr4gcWGx5WVUUBwH/bPF5Te67VvdRS6K0Edg/FOnKj5/6tuTLWG8kybRZ59xwfLCq/iNMwQLEz30eBYwSkedEZG4u22SS8VPna4DPicgaLL/Nv4YjWqS095kvSCSJixzxRUQ+B0wCToxaliARkQ7A9cClEYsSNp0w89NJ2KhxtogcrqrvRypVsFwM3KGqvxKRY4C7RWSsqjZHLVhSyOqI4g1gcIvPg3LftbqPiHTChqzrQ5Gu/PipLyJyKvADLJf5hyHJFhRt1bkXMBaoFpHXMDvuowl3aPu5z2uAR1V1h6q+CizHFEdS8VPnLwP3AajqC0A3bPG8NOPrmfdLVhXFPGCkiAwVkS6Ys/rRPfZ5FPhC7v0FwNOa8xIlkDbrKyJHAjdjSiLpdmtoo86qulFV+6nqEFUdgvllzlHV+dGIWxb8/K8fxkYTiEg/zBS1Kkwhy4yfOr8OnAIgImMwRbEuVCnD51Hg87nopynARlVdW+zJMml6UtUmEbkKeAKLmviTqi4RkZ8A81X1UeA2bIi6EnMaXRSdxKXhs76/AHoC9+d89q+r6jmRCV0iPuucKnzW+QngdBFZCuwEvqOqSR0p+63zt4FbRORqzLF9aYI7fQCIyD2Ywu+X8738GOgMoKo3Yb6YqcBKYAvwxZLKS/j1cjgcDkfAZNX05HA4HA6fOEXhcDgcjoI4ReFwOByOgjhF4XA4HI6COEXhcDgcjoI4ReFwACKyr4hc0eLzQBH5a5Qy5eQ4SUQ2isiMNvarEpHGhE8YdMQUpygcDmNfbMVgAFT1TVW9IEJ5WvKsqhZcGltVTwaSPFnQEWOconA4jOuA4SKySER+ISJDvLX+RaRj7rt5moNunAAAAiFJREFUubX9v5b7/iQReUZEHhGRVSJynYh8VkReFJFaERme2+8OEblJROaLyHIROTv3fTcRuT2370IRObktIUXkQBGZnZOzTkSOD/CaOBxARmdmOxyt8D1grKqOB5DdE1V9GVsC4SgR6Qo8JyJP5n47AhiDzd5fBdyqqpNF5JvYKqX/J7ffEGxJ7OFAlYiMAK4EVFUPF5HRwJMiMkpVCy15/hngCVX9mYh0BLqXWnGHoy2conA42uZ0YJyIeKaoPthCetuBed4aOiLyCuApkFosGZTHfbnVSleIyCpgNHAc8DsAVW0QkdXY2kuLC8gyD/iTiHQGHlbVReWooMNRCGd6cjjaRoB/VdXxuW2oqnoKoeUqu80tPjeze0dsz7Vyilo7J5ew5gRsJdA7ROTzxZzH4WgPTlE4HMZmbOnx1ngCuDzXi0dERolIj3ae/0IR6ZDzWwwDlgHPAp/1zgkcnPs+L2K5zN9W1VuAW7F0mA5HoDjTk8MBqOr6XNa3Oiy73w0tfr4V8zG8lEuHuw44t51FvA68iKXk/LqqbhORPwA3ikgt0IStatpWHpCTgO+IyA6gEXAjCkfguNVjHY6AEZE7gL+rarvnZYjIScC/qerZPvatzu3rwmQdZcWZnhyOeLMdGOtnwh1m0toRilSOTOFGFA6Hw+EoiBtROBwOh6MgTlE4HA6HoyBOUTgcDoejIE5ROBwOh6MgTlE4HA6HoyD/H7vthdCIyANRAAAAAElFTkSuQmCC\n",
                "metadata": {
                  "needs_background": "light",
                  "tags": []
                },
                "output_type": "display_data",
                "text/plain": "<Figure size 432x288 with 1 Axes>"
              }
            ]
          }
        },
        "1f97c9c0f821459cb457b48fbb1e0492": {
          "model_module": "@jupyter-widgets/base",
          "model_name": "LayoutModel",
          "state": {
            "_model_module": "@jupyter-widgets/base",
            "_model_module_version": "1.2.0",
            "_model_name": "LayoutModel",
            "_view_count": null,
            "_view_module": "@jupyter-widgets/base",
            "_view_module_version": "1.2.0",
            "_view_name": "LayoutView",
            "align_content": null,
            "align_items": null,
            "align_self": null,
            "border": null,
            "bottom": null,
            "display": null,
            "flex": null,
            "flex_flow": null,
            "grid_area": null,
            "grid_auto_columns": null,
            "grid_auto_flow": null,
            "grid_auto_rows": null,
            "grid_column": null,
            "grid_gap": null,
            "grid_row": null,
            "grid_template_areas": null,
            "grid_template_columns": null,
            "grid_template_rows": null,
            "height": null,
            "justify_content": null,
            "justify_items": null,
            "left": null,
            "margin": null,
            "max_height": null,
            "max_width": null,
            "min_height": null,
            "min_width": null,
            "object_fit": null,
            "object_position": null,
            "order": null,
            "overflow": null,
            "overflow_x": null,
            "overflow_y": null,
            "padding": null,
            "right": null,
            "top": null,
            "visibility": null,
            "width": null
          }
        },
        "3d2ee06f35f64c83923405e2292a010a": {
          "model_module": "@jupyter-widgets/base",
          "model_name": "LayoutModel",
          "state": {
            "_model_module": "@jupyter-widgets/base",
            "_model_module_version": "1.2.0",
            "_model_name": "LayoutModel",
            "_view_count": null,
            "_view_module": "@jupyter-widgets/base",
            "_view_module_version": "1.2.0",
            "_view_name": "LayoutView",
            "align_content": null,
            "align_items": null,
            "align_self": null,
            "border": null,
            "bottom": null,
            "display": null,
            "flex": null,
            "flex_flow": null,
            "grid_area": null,
            "grid_auto_columns": null,
            "grid_auto_flow": null,
            "grid_auto_rows": null,
            "grid_column": null,
            "grid_gap": null,
            "grid_row": null,
            "grid_template_areas": null,
            "grid_template_columns": null,
            "grid_template_rows": null,
            "height": null,
            "justify_content": null,
            "justify_items": null,
            "left": null,
            "margin": null,
            "max_height": null,
            "max_width": null,
            "min_height": null,
            "min_width": null,
            "object_fit": null,
            "object_position": null,
            "order": null,
            "overflow": null,
            "overflow_x": null,
            "overflow_y": null,
            "padding": null,
            "right": null,
            "top": null,
            "visibility": null,
            "width": null
          }
        },
        "f89cbc37dcb74181ab97992b6f0f149a": {
          "model_module": "@jupyter-widgets/controls",
          "model_name": "SliderStyleModel",
          "state": {
            "_model_module": "@jupyter-widgets/controls",
            "_model_module_version": "1.5.0",
            "_model_name": "SliderStyleModel",
            "_view_count": null,
            "_view_module": "@jupyter-widgets/base",
            "_view_module_version": "1.2.0",
            "_view_name": "StyleView",
            "description_width": "",
            "handle_color": null
          }
        },
        "3746b8cd2dbb4e5097fb2b8e2b2e2dcd": {
          "model_module": "@jupyter-widgets/base",
          "model_name": "LayoutModel",
          "state": {
            "_model_module": "@jupyter-widgets/base",
            "_model_module_version": "1.2.0",
            "_model_name": "LayoutModel",
            "_view_count": null,
            "_view_module": "@jupyter-widgets/base",
            "_view_module_version": "1.2.0",
            "_view_name": "LayoutView",
            "align_content": null,
            "align_items": null,
            "align_self": null,
            "border": null,
            "bottom": null,
            "display": null,
            "flex": null,
            "flex_flow": null,
            "grid_area": null,
            "grid_auto_columns": null,
            "grid_auto_flow": null,
            "grid_auto_rows": null,
            "grid_column": null,
            "grid_gap": null,
            "grid_row": null,
            "grid_template_areas": null,
            "grid_template_columns": null,
            "grid_template_rows": null,
            "height": null,
            "justify_content": null,
            "justify_items": null,
            "left": null,
            "margin": null,
            "max_height": null,
            "max_width": null,
            "min_height": null,
            "min_width": null,
            "object_fit": null,
            "object_position": null,
            "order": null,
            "overflow": null,
            "overflow_x": null,
            "overflow_y": null,
            "padding": null,
            "right": null,
            "top": null,
            "visibility": null,
            "width": null
          }
        },
        "370afae10729442787be27c560ea1de2": {
          "model_module": "@jupyter-widgets/controls",
          "model_name": "DescriptionStyleModel",
          "state": {
            "_model_module": "@jupyter-widgets/controls",
            "_model_module_version": "1.5.0",
            "_model_name": "DescriptionStyleModel",
            "_view_count": null,
            "_view_module": "@jupyter-widgets/base",
            "_view_module_version": "1.2.0",
            "_view_name": "StyleView",
            "description_width": ""
          }
        },
        "36ca42c1ec7640a480d2fd563c58aeb6": {
          "model_module": "@jupyter-widgets/base",
          "model_name": "LayoutModel",
          "state": {
            "_model_module": "@jupyter-widgets/base",
            "_model_module_version": "1.2.0",
            "_model_name": "LayoutModel",
            "_view_count": null,
            "_view_module": "@jupyter-widgets/base",
            "_view_module_version": "1.2.0",
            "_view_name": "LayoutView",
            "align_content": null,
            "align_items": null,
            "align_self": null,
            "border": null,
            "bottom": null,
            "display": null,
            "flex": null,
            "flex_flow": null,
            "grid_area": null,
            "grid_auto_columns": null,
            "grid_auto_flow": null,
            "grid_auto_rows": null,
            "grid_column": null,
            "grid_gap": null,
            "grid_row": null,
            "grid_template_areas": null,
            "grid_template_columns": null,
            "grid_template_rows": null,
            "height": null,
            "justify_content": null,
            "justify_items": null,
            "left": null,
            "margin": null,
            "max_height": null,
            "max_width": null,
            "min_height": null,
            "min_width": null,
            "object_fit": null,
            "object_position": null,
            "order": null,
            "overflow": null,
            "overflow_x": null,
            "overflow_y": null,
            "padding": null,
            "right": null,
            "top": null,
            "visibility": null,
            "width": null
          }
        },
        "1cdf1661c5f643a794b1c51a2e6baf33": {
          "model_module": "@jupyter-widgets/controls",
          "model_name": "VBoxModel",
          "state": {
            "_dom_classes": [
              "widget-interact"
            ],
            "_model_module": "@jupyter-widgets/controls",
            "_model_module_version": "1.5.0",
            "_model_name": "VBoxModel",
            "_view_count": null,
            "_view_module": "@jupyter-widgets/controls",
            "_view_module_version": "1.5.0",
            "_view_name": "VBoxView",
            "box_style": "",
            "children": [
              "IPY_MODEL_6f300274c069443a879dc7fed616f13c",
              "IPY_MODEL_c5dab61e29044aa3adaa1c4910d3a117",
              "IPY_MODEL_a27c03f1321f44d299cf0f90fb620e1f",
              "IPY_MODEL_3e98cc0f4107407b9aacbbbe0667809e"
            ],
            "layout": "IPY_MODEL_3afcd6df9fab420194a1089b1ee2f631"
          }
        },
        "6f300274c069443a879dc7fed616f13c": {
          "model_module": "@jupyter-widgets/controls",
          "model_name": "FloatSliderModel",
          "state": {
            "_dom_classes": [],
            "_model_module": "@jupyter-widgets/controls",
            "_model_module_version": "1.5.0",
            "_model_name": "FloatSliderModel",
            "_view_count": null,
            "_view_module": "@jupyter-widgets/controls",
            "_view_module_version": "1.5.0",
            "_view_name": "FloatSliderView",
            "continuous_update": true,
            "description": "L",
            "description_tooltip": null,
            "disabled": false,
            "layout": "IPY_MODEL_cd306fc01d774bc0b1b167b7d56f8510",
            "max": 2,
            "min": 1,
            "orientation": "horizontal",
            "readout": true,
            "readout_format": ".2f",
            "step": 0.5,
            "style": "IPY_MODEL_f49454b9437c472d862326b913a609d9",
            "value": 1
          }
        },
        "c5dab61e29044aa3adaa1c4910d3a117": {
          "model_module": "@jupyter-widgets/controls",
          "model_name": "FloatSliderModel",
          "state": {
            "_dom_classes": [],
            "_model_module": "@jupyter-widgets/controls",
            "_model_module_version": "1.5.0",
            "_model_name": "FloatSliderModel",
            "_view_count": null,
            "_view_module": "@jupyter-widgets/controls",
            "_view_module_version": "1.5.0",
            "_view_name": "FloatSliderView",
            "continuous_update": true,
            "description": "xo",
            "description_tooltip": null,
            "disabled": false,
            "layout": "IPY_MODEL_317217497e0044079e0eec0b56b75dc3",
            "max": 2,
            "min": 0,
            "orientation": "horizontal",
            "readout": true,
            "readout_format": ".2f",
            "step": 0.1,
            "style": "IPY_MODEL_df03d747467c40a6bffb63baaa8b8eac",
            "value": 0.8
          }
        },
        "a27c03f1321f44d299cf0f90fb620e1f": {
          "model_module": "@jupyter-widgets/controls",
          "model_name": "FloatSliderModel",
          "state": {
            "_dom_classes": [],
            "_model_module": "@jupyter-widgets/controls",
            "_model_module_version": "1.5.0",
            "_model_name": "FloatSliderModel",
            "_view_count": null,
            "_view_module": "@jupyter-widgets/controls",
            "_view_module_version": "1.5.0",
            "_view_name": "FloatSliderView",
            "continuous_update": true,
            "description": "vo",
            "description_tooltip": null,
            "disabled": false,
            "layout": "IPY_MODEL_39bc5e56a2ae4d9683e04b88c3f5badf",
            "max": 5,
            "min": 0,
            "orientation": "horizontal",
            "readout": true,
            "readout_format": ".2f",
            "step": 0.5,
            "style": "IPY_MODEL_c0240ebdf9b348ac85adcb840ea1dccb",
            "value": 0
          }
        },
        "3e98cc0f4107407b9aacbbbe0667809e": {
          "model_module": "@jupyter-widgets/output",
          "model_name": "OutputModel",
          "state": {
            "_dom_classes": [],
            "_model_module": "@jupyter-widgets/output",
            "_model_module_version": "1.0.0",
            "_model_name": "OutputModel",
            "_view_count": null,
            "_view_module": "@jupyter-widgets/output",
            "_view_module_version": "1.0.0",
            "_view_name": "OutputView",
            "layout": "IPY_MODEL_933ee0a88188419c873eca698c981273",
            "msg_id": "",
            "outputs": [
              {
                "image/png": "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\n",
                "metadata": {
                  "needs_background": "light",
                  "tags": []
                },
                "output_type": "display_data",
                "text/plain": "<Figure size 432x288 with 1 Axes>"
              }
            ]
          }
        },
        "3afcd6df9fab420194a1089b1ee2f631": {
          "model_module": "@jupyter-widgets/base",
          "model_name": "LayoutModel",
          "state": {
            "_model_module": "@jupyter-widgets/base",
            "_model_module_version": "1.2.0",
            "_model_name": "LayoutModel",
            "_view_count": null,
            "_view_module": "@jupyter-widgets/base",
            "_view_module_version": "1.2.0",
            "_view_name": "LayoutView",
            "align_content": null,
            "align_items": null,
            "align_self": null,
            "border": null,
            "bottom": null,
            "display": null,
            "flex": null,
            "flex_flow": null,
            "grid_area": null,
            "grid_auto_columns": null,
            "grid_auto_flow": null,
            "grid_auto_rows": null,
            "grid_column": null,
            "grid_gap": null,
            "grid_row": null,
            "grid_template_areas": null,
            "grid_template_columns": null,
            "grid_template_rows": null,
            "height": null,
            "justify_content": null,
            "justify_items": null,
            "left": null,
            "margin": null,
            "max_height": null,
            "max_width": null,
            "min_height": null,
            "min_width": null,
            "object_fit": null,
            "object_position": null,
            "order": null,
            "overflow": null,
            "overflow_x": null,
            "overflow_y": null,
            "padding": null,
            "right": null,
            "top": null,
            "visibility": null,
            "width": null
          }
        },
        "cd306fc01d774bc0b1b167b7d56f8510": {
          "model_module": "@jupyter-widgets/base",
          "model_name": "LayoutModel",
          "state": {
            "_model_module": "@jupyter-widgets/base",
            "_model_module_version": "1.2.0",
            "_model_name": "LayoutModel",
            "_view_count": null,
            "_view_module": "@jupyter-widgets/base",
            "_view_module_version": "1.2.0",
            "_view_name": "LayoutView",
            "align_content": null,
            "align_items": null,
            "align_self": null,
            "border": null,
            "bottom": null,
            "display": null,
            "flex": null,
            "flex_flow": null,
            "grid_area": null,
            "grid_auto_columns": null,
            "grid_auto_flow": null,
            "grid_auto_rows": null,
            "grid_column": null,
            "grid_gap": null,
            "grid_row": null,
            "grid_template_areas": null,
            "grid_template_columns": null,
            "grid_template_rows": null,
            "height": null,
            "justify_content": null,
            "justify_items": null,
            "left": null,
            "margin": null,
            "max_height": null,
            "max_width": null,
            "min_height": null,
            "min_width": null,
            "object_fit": null,
            "object_position": null,
            "order": null,
            "overflow": null,
            "overflow_x": null,
            "overflow_y": null,
            "padding": null,
            "right": null,
            "top": null,
            "visibility": null,
            "width": null
          }
        },
        "f49454b9437c472d862326b913a609d9": {
          "model_module": "@jupyter-widgets/controls",
          "model_name": "SliderStyleModel",
          "state": {
            "_model_module": "@jupyter-widgets/controls",
            "_model_module_version": "1.5.0",
            "_model_name": "SliderStyleModel",
            "_view_count": null,
            "_view_module": "@jupyter-widgets/base",
            "_view_module_version": "1.2.0",
            "_view_name": "StyleView",
            "description_width": "",
            "handle_color": null
          }
        },
        "317217497e0044079e0eec0b56b75dc3": {
          "model_module": "@jupyter-widgets/base",
          "model_name": "LayoutModel",
          "state": {
            "_model_module": "@jupyter-widgets/base",
            "_model_module_version": "1.2.0",
            "_model_name": "LayoutModel",
            "_view_count": null,
            "_view_module": "@jupyter-widgets/base",
            "_view_module_version": "1.2.0",
            "_view_name": "LayoutView",
            "align_content": null,
            "align_items": null,
            "align_self": null,
            "border": null,
            "bottom": null,
            "display": null,
            "flex": null,
            "flex_flow": null,
            "grid_area": null,
            "grid_auto_columns": null,
            "grid_auto_flow": null,
            "grid_auto_rows": null,
            "grid_column": null,
            "grid_gap": null,
            "grid_row": null,
            "grid_template_areas": null,
            "grid_template_columns": null,
            "grid_template_rows": null,
            "height": null,
            "justify_content": null,
            "justify_items": null,
            "left": null,
            "margin": null,
            "max_height": null,
            "max_width": null,
            "min_height": null,
            "min_width": null,
            "object_fit": null,
            "object_position": null,
            "order": null,
            "overflow": null,
            "overflow_x": null,
            "overflow_y": null,
            "padding": null,
            "right": null,
            "top": null,
            "visibility": null,
            "width": null
          }
        },
        "df03d747467c40a6bffb63baaa8b8eac": {
          "model_module": "@jupyter-widgets/controls",
          "model_name": "SliderStyleModel",
          "state": {
            "_model_module": "@jupyter-widgets/controls",
            "_model_module_version": "1.5.0",
            "_model_name": "SliderStyleModel",
            "_view_count": null,
            "_view_module": "@jupyter-widgets/base",
            "_view_module_version": "1.2.0",
            "_view_name": "StyleView",
            "description_width": "",
            "handle_color": null
          }
        },
        "39bc5e56a2ae4d9683e04b88c3f5badf": {
          "model_module": "@jupyter-widgets/base",
          "model_name": "LayoutModel",
          "state": {
            "_model_module": "@jupyter-widgets/base",
            "_model_module_version": "1.2.0",
            "_model_name": "LayoutModel",
            "_view_count": null,
            "_view_module": "@jupyter-widgets/base",
            "_view_module_version": "1.2.0",
            "_view_name": "LayoutView",
            "align_content": null,
            "align_items": null,
            "align_self": null,
            "border": null,
            "bottom": null,
            "display": null,
            "flex": null,
            "flex_flow": null,
            "grid_area": null,
            "grid_auto_columns": null,
            "grid_auto_flow": null,
            "grid_auto_rows": null,
            "grid_column": null,
            "grid_gap": null,
            "grid_row": null,
            "grid_template_areas": null,
            "grid_template_columns": null,
            "grid_template_rows": null,
            "height": null,
            "justify_content": null,
            "justify_items": null,
            "left": null,
            "margin": null,
            "max_height": null,
            "max_width": null,
            "min_height": null,
            "min_width": null,
            "object_fit": null,
            "object_position": null,
            "order": null,
            "overflow": null,
            "overflow_x": null,
            "overflow_y": null,
            "padding": null,
            "right": null,
            "top": null,
            "visibility": null,
            "width": null
          }
        },
        "c0240ebdf9b348ac85adcb840ea1dccb": {
          "model_module": "@jupyter-widgets/controls",
          "model_name": "SliderStyleModel",
          "state": {
            "_model_module": "@jupyter-widgets/controls",
            "_model_module_version": "1.5.0",
            "_model_name": "SliderStyleModel",
            "_view_count": null,
            "_view_module": "@jupyter-widgets/base",
            "_view_module_version": "1.2.0",
            "_view_name": "StyleView",
            "description_width": "",
            "handle_color": null
          }
        },
        "933ee0a88188419c873eca698c981273": {
          "model_module": "@jupyter-widgets/base",
          "model_name": "LayoutModel",
          "state": {
            "_model_module": "@jupyter-widgets/base",
            "_model_module_version": "1.2.0",
            "_model_name": "LayoutModel",
            "_view_count": null,
            "_view_module": "@jupyter-widgets/base",
            "_view_module_version": "1.2.0",
            "_view_name": "LayoutView",
            "align_content": null,
            "align_items": null,
            "align_self": null,
            "border": null,
            "bottom": null,
            "display": null,
            "flex": null,
            "flex_flow": null,
            "grid_area": null,
            "grid_auto_columns": null,
            "grid_auto_flow": null,
            "grid_auto_rows": null,
            "grid_column": null,
            "grid_gap": null,
            "grid_row": null,
            "grid_template_areas": null,
            "grid_template_columns": null,
            "grid_template_rows": null,
            "height": null,
            "justify_content": null,
            "justify_items": null,
            "left": null,
            "margin": null,
            "max_height": null,
            "max_width": null,
            "min_height": null,
            "min_width": null,
            "object_fit": null,
            "object_position": null,
            "order": null,
            "overflow": null,
            "overflow_x": null,
            "overflow_y": null,
            "padding": null,
            "right": null,
            "top": null,
            "visibility": null,
            "width": null
          }
        }
      }
    }
  },
  "cells": [
    {
      "cell_type": "markdown",
      "metadata": {
        "id": "view-in-github",
        "colab_type": "text"
      },
      "source": [
        "<a href=\"https://colab.research.google.com/github/justinRH/physics/blob/main/widget_MAS.ipynb\" target=\"_parent\"><img src=\"https://colab.research.google.com/assets/colab-badge.svg\" alt=\"Open In Colab\"/></a>"
      ]
    },
    {
      "cell_type": "code",
      "metadata": {
        "id": "dXM-tC2_gf4K"
      },
      "source": [
        ""
      ],
      "execution_count": null,
      "outputs": []
    },
    {
      "cell_type": "markdown",
      "metadata": {
        "id": "dcsMEYNmfQo5"
      },
      "source": [
        "# Movimiento Oscilatorio de un Péndulo Simple\n",
        "El péndulo simple es un sistema físico constituido por una cuerda y un objeto atado a su extremo. \n",
        "\n",
        "Este cuaderno lo compartí con mis estudiantes de la asignatura Oscilaciones y Ondas (QA302) de la FACYT-UC, para guiar una clase cuyos objetivos fueron:\n",
        "\n",
        "1. Reconocer al Péndulo Simple como un sistema físico oscilatorio.\n",
        "2. Reconocer las aproximaciones para que su movimiento sea MAS\n",
        "3. Identificar el comportamiento del sistema según cambios en las parámetro físicos: longitud de la cuerda y masa del objeto.\n",
        "4. Estudiar los resultados que se derivan de establecer las condiciones iniciales.\n",
        "\n",
        "\n",
        "![apuntesPendulo.jpg](data:image/jpeg;base64,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)\n"
      ]
    },
    {
      "cell_type": "markdown",
      "metadata": {
        "id": "GgjlM5XdSkQi"
      },
      "source": [
        ""
      ]
    },
    {
      "cell_type": "code",
      "metadata": {
        "id": "Wt-pD0yiS70A"
      },
      "source": [
        "import numpy as np\n",
        "import matplotlib as mpl\n",
        "import matplotlib.pyplot as plt\n",
        "import pandas as pd"
      ],
      "execution_count": 7,
      "outputs": []
    },
    {
      "cell_type": "code",
      "metadata": {
        "id": "RO924r3kMPD6"
      },
      "source": [
        "matplotlib inline"
      ],
      "execution_count": 2,
      "outputs": []
    },
    {
      "cell_type": "code",
      "metadata": {
        "id": "F2PUEuKGMPD-"
      },
      "source": [
        "from ipywidgets import interact, interactive, fixed, interact_manual\n",
        "import ipywidgets as widgets\n"
      ],
      "execution_count": 3,
      "outputs": []
    },
    {
      "cell_type": "markdown",
      "metadata": {
        "id": "m9uXD46ZMPEA"
      },
      "source": [
        "## Oscilaciones de un péndulo con Longitud Variable"
      ]
    },
    {
      "cell_type": "code",
      "metadata": {
        "colab": {
          "base_uri": "https://localhost:8080/",
          "height": 343,
          "referenced_widgets": [
            "e091f89e50d443a989ccf7e105a71a36",
            "f0bc11e61a5e473c8f7a464449ad2751",
            "49ded3d8399a4448b525c9db915c5bfa",
            "60cb91d34b374d32b4a14581fa152689",
            "1f97c9c0f821459cb457b48fbb1e0492",
            "3d2ee06f35f64c83923405e2292a010a",
            "f89cbc37dcb74181ab97992b6f0f149a",
            "3746b8cd2dbb4e5097fb2b8e2b2e2dcd",
            "370afae10729442787be27c560ea1de2",
            "36ca42c1ec7640a480d2fd563c58aeb6"
          ]
        },
        "id": "LMgzcxVTMPEC",
        "outputId": "02438d65-c4d9-4293-89f7-da8cc87a8593"
      },
      "source": [
        "@interact\n",
        "def plotMAS(\n",
        "    L = (1,4,.5),\n",
        "    color = ['red','blue'],\n",
        "    ):\n",
        "    \n",
        "    \n",
        "    g = 10\n",
        "    w = 2*np.pi*np.sqrt(g/L)\n",
        "    \n",
        "    t=np.arange(0,1,.001)\n",
        "    x= 2*np.cos(w*t+np.pi)\n",
        "    \n",
        "    plt.plot(t,x ,color=color)\n",
        "    plt.ylabel('desplazamiento [m]')\n",
        "    plt.xlabel('tiempo [s]')\n",
        "    plt.grid(True)"
      ],
      "execution_count": null,
      "outputs": [
        {
          "output_type": "display_data",
          "data": {
            "application/vnd.jupyter.widget-view+json": {
              "model_id": "e091f89e50d443a989ccf7e105a71a36",
              "version_major": 2,
              "version_minor": 0
            },
            "text/plain": [
              "interactive(children=(FloatSlider(value=2.0, description='L', max=4.0, min=1.0, step=0.5), Dropdown(descriptio…"
            ]
          },
          "metadata": {
            "tags": []
          }
        }
      ]
    },
    {
      "cell_type": "markdown",
      "metadata": {
        "id": "0jbkLnGVMPEH"
      },
      "source": [
        "## Variaciones de condiciones iniciales"
      ]
    },
    {
      "cell_type": "code",
      "metadata": {
        "colab": {
          "base_uri": "https://localhost:8080/",
          "height": 375,
          "referenced_widgets": [
            "1cdf1661c5f643a794b1c51a2e6baf33",
            "6f300274c069443a879dc7fed616f13c",
            "c5dab61e29044aa3adaa1c4910d3a117",
            "a27c03f1321f44d299cf0f90fb620e1f",
            "3e98cc0f4107407b9aacbbbe0667809e",
            "3afcd6df9fab420194a1089b1ee2f631",
            "cd306fc01d774bc0b1b167b7d56f8510",
            "f49454b9437c472d862326b913a609d9",
            "317217497e0044079e0eec0b56b75dc3",
            "df03d747467c40a6bffb63baaa8b8eac",
            "39bc5e56a2ae4d9683e04b88c3f5badf",
            "c0240ebdf9b348ac85adcb840ea1dccb",
            "933ee0a88188419c873eca698c981273"
          ]
        },
        "id": "C9z_CXrAMPEJ",
        "outputId": "08d0ca2b-0cf1-4167-a5ca-ce9e237655c6"
      },
      "source": [
        "@interact\n",
        "def plotMAS(\n",
        "    L = (1,2,.5),\n",
        "    xo = (0,2,0.1),\n",
        "    vo = (0,5,.5),\n",
        "    ):\n",
        "    \n",
        "    \n",
        "    g = 10\n",
        "    w = 2*np.pi*np.sqrt(g/L)\n",
        "    fase = np.arctan( (w*xo) / (vo+0.0001) )\n",
        "    \n",
        "    if vo == 0:\n",
        "        A = xo/np.sin(fase)\n",
        "    else:\n",
        "        A = vo/w\n",
        "        \n",
        "    t=np.arange(0,0.5,.01)\n",
        "    x= A*np.sin(w*t+fase)\n",
        "    \n",
        "    plt.plot(t,x)\n",
        "    plt.ylabel('desplazamiento [m]')\n",
        "    plt.xlabel('tiempo [s]')\n",
        "    plt.grid(True)"
      ],
      "execution_count": null,
      "outputs": [
        {
          "output_type": "display_data",
          "data": {
            "application/vnd.jupyter.widget-view+json": {
              "model_id": "1cdf1661c5f643a794b1c51a2e6baf33",
              "version_major": 2,
              "version_minor": 0
            },
            "text/plain": [
              "interactive(children=(FloatSlider(value=1.0, description='L', max=2.0, min=1.0, step=0.5), FloatSlider(value=1…"
            ]
          },
          "metadata": {
            "tags": []
          }
        }
      ]
    },
    {
      "cell_type": "markdown",
      "metadata": {
        "id": "39qi0_bfSFkc"
      },
      "source": [
        "## Energía Mecánica"
      ]
    },
    {
      "cell_type": "code",
      "metadata": {
        "colab": {
          "base_uri": "https://localhost:8080/",
          "height": 279
        },
        "id": "r7pycVILMPEM",
        "outputId": "4adddd66-4506-449b-9d2d-8294fc822643"
      },
      "source": [
        "t=np.arange(0,3,.001)\n",
        "g=10\n",
        "L = 2\n",
        "m=1\n",
        "\n",
        "w=np.sqrt(g/L)\n",
        "\n",
        "Theta = np.sin(w*t)\n",
        "W     = w*np.cos(w*t)\n",
        "\n",
        "# Energía cinética  K=(1/2)*I*W*W  ; I = m*L*L\n",
        "# Energía potencial U = m*g*h = m*g*L(1-cos(Theta))\n",
        "\n",
        "K = 0.5*m*L*L*W*W\n",
        "U = 0.5*m*g*L*Theta*Theta\n",
        "    \n",
        "plt.plot(t,K,color='red')\n",
        "plt.plot(t,U,color='blue')\n",
        "plt.ylabel('Energía U y K [j]')\n",
        "plt.xlabel('tiempo [s]')\n",
        "plt.grid(True)"
      ],
      "execution_count": 6,
      "outputs": [
        {
          "output_type": "display_data",
          "data": {
            "image/png": "[encoded data removed]",
            "text/plain": [
              "<Figure size 432x288 with 1 Axes>"
            ]
          },
          "metadata": {
            "tags": [],
            "needs_background": "light"
          }
        }
      ]
    }
  ]
}